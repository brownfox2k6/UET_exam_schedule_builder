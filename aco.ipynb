{
 "cells": [
  {
   "cell_type": "markdown",
   "metadata": {},
   "source": [
    "### Import các module cần thiết"
   ]
  },
  {
   "cell_type": "code",
   "execution_count": 154,
   "metadata": {},
   "outputs": [],
   "source": [
    "import sqlite3, itertools, random\n",
    "from collections import defaultdict\n",
    "from datetime import date, timedelta\n",
    "from math import log10, ceil"
   ]
  },
  {
   "cell_type": "markdown",
   "metadata": {},
   "source": [
    "### Cấu hình tổng quát & Các tham số"
   ]
  },
  {
   "cell_type": "code",
   "execution_count": 155,
   "metadata": {},
   "outputs": [],
   "source": [
    "# Siêu tham số cho ACO\n",
    "ALPHA = 1.0     # Ảnh hưởng của pheromone trong xác suất chọn (τ^α)\n",
    "BETA  = 3.5     # Ảnh hưởng của heuristic trong xác suất chọn (η^β)\n",
    "RHO   = 0.22    # Tốc độ bay hơi pheromone ở cập nhật toàn cục (global)\n",
    "XI    = 0.1     # Tốc độ cập nhật pheromone cục bộ (local) sau mỗi quyết định\n",
    "Q     = 500     # Hệ số lắng pheromone khi cộng vào lời giải tốt nhất\n",
    "TAU0  = 0.5     # Giá trị pheromone khởi tạo (đồng đều)\n",
    "\n",
    "NUM_ANTS    = 35   # Số lượng \"kiến\" mỗi vòng lặp\n",
    "MAX_ITERS   = 30   # Số vòng lặp tối đa\n",
    "EARLY_STOP  = 10   # Dừng sớm nếu không cải thiện trong chừng đó vòng\n",
    "LOCAL_MOVES = 200  # Số bước thử local search cho mỗi lời giải"
   ]
  },
  {
   "cell_type": "markdown",
   "metadata": {},
   "source": [
    "### Tạo danh sách ngày thi và ca thi"
   ]
  },
  {
   "cell_type": "code",
   "execution_count": 156,
   "metadata": {},
   "outputs": [],
   "source": [
    "SCHEDULE_ON_SATURDAY = 1  # Có tổ chức thi vào Thứ bảy không?\n",
    "SCHEDULE_ON_SUNDAY   = 0  # Có tổ thức thi vào Chủ nhật không?\n",
    "SLOTS_PER_DAY        = 4  # Số ca thi mỗi ngày\n",
    "DATE_START = date(2026, 1, 5)  # inclusive\n",
    "DATE_END   = date(2026, 2, 1)  # exclusive\n",
    "TIMESLOTS: list[tuple[int, int]] = []\n",
    "slot = -SLOTS_PER_DAY\n",
    "for day in range((DATE_END - DATE_START).days):\n",
    "  slot += SLOTS_PER_DAY\n",
    "  weekday = (DATE_START + timedelta(days=day)).weekday()\n",
    "  if (weekday == 5 and not SCHEDULE_ON_SATURDAY) \\\n",
    "      or (weekday == 6 and not SCHEDULE_ON_SUNDAY):\n",
    "    continue\n",
    "  for i in range(slot, slot + SLOTS_PER_DAY):\n",
    "    TIMESLOTS.append((day, slot + i))"
   ]
  },
  {
   "cell_type": "markdown",
   "metadata": {},
   "source": [
    "### Load data"
   ]
  },
  {
   "cell_type": "code",
   "execution_count": 157,
   "metadata": {},
   "outputs": [],
   "source": [
    "with sqlite3.connect(\"database.db\") as conn:\n",
    "  cursor = conn.cursor()\n",
    "  courses_by_student: defaultdict[str, set[str]] = defaultdict(set)\n",
    "  sections_by_student: defaultdict[str, set[str]] = defaultdict(set)\n",
    "  students_by_course: defaultdict[str, set[str]] = defaultdict(set)\n",
    "  for student_id, section_code, course_code in cursor.execute(\"\"\"\n",
    "      SELECT e.student_id, e.section_code, s.course_code\n",
    "      FROM enrolments e JOIN sections s ON e.section_code = s.section_code\n",
    "  \"\"\"):\n",
    "    courses_by_student[student_id].add(course_code)\n",
    "    sections_by_student[student_id].add(section_code)\n",
    "    students_by_course[course_code].add(student_id)"
   ]
  },
  {
   "cell_type": "markdown",
   "metadata": {},
   "source": [
    "### Xây dựng đồ thị xung đột\n",
    "- Mỗi `course_code` là một đỉnh.\n",
    "- Có cạnh giữa hai `course_code` nếu tồn tại ít nhất một sinh viên thi cả hai môn đó.\n",
    "- Trọng số của cạnh là số sinh viên cùng thi hai môn đó."
   ]
  },
  {
   "cell_type": "code",
   "execution_count": 158,
   "metadata": {},
   "outputs": [],
   "source": [
    "conflict: dict[str, dict[str, int]] = defaultdict(lambda: defaultdict(int))\n",
    "for courses in courses_by_student.values():\n",
    "  for course1, course2 in itertools.combinations(courses, 2):\n",
    "    conflict[course1][course2] += 1\n",
    "    conflict[course2][course1] += 1\n",
    "# Đảm bảo các course không có xung đột vẫn xuất hiện trong đồ thị,\n",
    "# chỉ là có thể không có cạnh nào nối tới nó.\n",
    "for course in students_by_course:\n",
    "  conflict.setdefault(course, defaultdict(int))"
   ]
  },
  {
   "cell_type": "markdown",
   "metadata": {},
   "source": [
    "### Heuristic: Tạo thứ tự xếp lịch thi\n",
    "~~Môn nào \"khó\" (nhiều xung đột, quy mô lớn) được gán trước để giảm bế tắc.~~  \n",
    "Thay vì duyệt theo `courses_order` cố định, mỗi bước chọn đỉnh có ít slot khả dụng nhất."
   ]
  },
  {
   "cell_type": "code",
   "execution_count": 159,
   "metadata": {},
   "outputs": [],
   "source": [
    "# courses_order = sorted(\n",
    "#   conflict.keys(),\n",
    "#   key=lambda c: (len(conflict[c]), len(students_by_course[c])),\n",
    "#   reverse=True\n",
    "# )\n",
    "\n",
    "def get_next_course(schedule: dict[str, int]) -> str:\n",
    "  def n_avail(c: str) -> int:\n",
    "    forbidden_slots: set[int] = {schedule[n] for n in conflict[c] if n in schedule}\n",
    "    return len(TIMESLOTS) - len(forbidden_slots)\n",
    "  remain_courses = [c for c in students_by_course if c not in schedule]\n",
    "  return min(remain_courses, key=n_avail) if remain_courses else \"\""
   ]
  },
  {
   "cell_type": "markdown",
   "metadata": {},
   "source": [
    "### \"Vòng quay xổ số\"\n",
    "Chọn một phần tử trong `items` theo phân phối tỉ lệ `weights`."
   ]
  },
  {
   "cell_type": "code",
   "execution_count": 160,
   "metadata": {},
   "outputs": [],
   "source": [
    "def roulette(items: list[int], weights: list[float]):\n",
    "  total = sum(weights)\n",
    "  if total <= 0:\n",
    "    return random.choice(items)\n",
    "  r = random.random() * total\n",
    "  accumulate = 0\n",
    "  for it, w in zip(items, weights):\n",
    "    accumulate += w\n",
    "    if accumulate >= r:\n",
    "      return it\n",
    "  return items[-1]"
   ]
  },
  {
   "cell_type": "markdown",
   "metadata": {},
   "source": [
    "### Xây đường đi (lịch thi) cho một con \"kiến\"\n",
    "- Duyệt theo thứ tự `courses_order`.\n",
    "- Với mỗi course: xác định tập lịch khả thi (không trùng lịch với course xung đột).\n",
    "- Tính trọng số chọn lịch: $\\tau^\\alpha \\cdot \\eta^\\beta$, với $\\eta = \\frac{1}{1+\\Delta_\\text{soft}}$\n",
    "- Chọn lịch thi theo bánh xe xổ số, cập nhật pheromone cục bộ rồi tiếp tục."
   ]
  },
  {
   "cell_type": "code",
   "execution_count": 161,
   "metadata": {},
   "outputs": [],
   "source": [
    "def construct_ant(tau: dict[tuple[str, int], float]) -> dict[str, int] | None:\n",
    "  schedule: dict[str, int] = dict()\n",
    "  students_by_day: dict[int, dict[str, int]] = defaultdict(lambda: defaultdict(int))\n",
    "  while course := get_next_course(schedule):\n",
    "  # for course in courses_order:\n",
    "    forbidden_slots: set[int] = set(schedule[nb] for nb in conflict[course] if nb in schedule)\n",
    "    feasible_slots: list[int] = [ts for ts in range(len(TIMESLOTS)) if ts not in forbidden_slots]\n",
    "    # Nếu không có slot khả thi, con kiến này \"die\"\n",
    "    if not feasible_slots:\n",
    "      return None\n",
    "    weights: list[float] = []\n",
    "    for timeslot in feasible_slots:\n",
    "      # Heuristic cục bộ: Ước lượng nhanh \"phạt tăng thêm\" nếu đặt `course`\n",
    "      # vào ngày thứ `day` dựa trên lịch tạm thời `partial_schedule`\n",
    "      # (chỉ xét theo ngày: với mỗi sinh viên, đếm số ca thi khác trong ngày của họ).\n",
    "      day, _ = TIMESLOTS[timeslot]\n",
    "      delta_soft = sum(students_by_day[day][sid] for sid in students_by_course[course])\n",
    "      eta = 1 / (1 + delta_soft)\n",
    "      w = (tau[(course, timeslot)] ** ALPHA) * (eta ** BETA)\n",
    "      weights.append(w)\n",
    "    timeslot_chosen = roulette(feasible_slots, weights)\n",
    "    schedule[course] = timeslot_chosen\n",
    "    day_chosen, _ = TIMESLOTS[timeslot_chosen]\n",
    "    for student_id in students_by_course[course]:\n",
    "      students_by_day[day_chosen][student_id] += 1\n",
    "    # Local pheromone update: τ ← (1-ξ)τ + ξτ0\n",
    "    tau[(course, timeslot_chosen)] = (1 - XI) * tau[(course, timeslot_chosen)] + XI * TAU0\n",
    "  return schedule "
   ]
  },
  {
   "cell_type": "markdown",
   "metadata": {},
   "source": [
    "### Local search: Tối ưu cục bộ đơn giản\n",
    "- Local search: Lặp `LOCAL_MOVES` lần: chọn ngẫu nhiên một course, thử chuyển sang một timeslot hợp lệ khác.\n",
    "- Chấp nhận nước đi nếu giảm chi phí; nếu không thì hoàn tác.\n",
    "\n",
    "Dựa theo bài báo _Solving a Practical Examination Timetabling Problem: A Case Study_ (8/2007), viết bởi Masri Ayob, Ariff Md Ab Malik, Salwani Abdullah, Abdul Razak Hamdan, Graham Kendall, và Rong Qu, [Link researchgate.net](https://www.researchgate.net/publication/221432805_Solving_a_Practical_Examination_Timetabling_Problem_A_Case_Study), có hàm tính chi phí của cả lịch thi như sau:\n",
    "$$F = \\frac{\\sum_{i=1}^{N-1}\\sum_{j=i+1}^{N} c_{ij}\\cdot 2^{(15-\\Delta t_{ij})(3-\\Delta d_{ij})}}{M}$$\n",
    "với:\n",
    "- $N$ là số môn thi,\n",
    "- $M$ là số sinh viên,\n",
    "- $c_{ij}$ là số sinh viên cùng thi hai môn $E_i$ và $E_j$ ($c_{ij}=0$ với $i=j$),\n",
    "- $\\Delta t_{ij} = |t_i - t_j|$ là khoảng cách ca thi giữa hai môn $E_i$ và $E_j$,\n",
    "- $\\Delta d_{ij} = |d_i - d_j|$ là khoảng cách ngày thi giữa hai môn $E_i$ và $E_j$.\n",
    "\n",
    "Vì $F$ là hàm mũ, giá trị có thể rất lớn, lên đến $2^{45}$ nên khi cập nhật pheromone ta sẽ lấy $\\log_{10}(1 + F)$ (cộng $1$ vào vì không tính được $\\log 0$)."
   ]
  },
  {
   "cell_type": "code",
   "execution_count": 162,
   "metadata": {},
   "outputs": [],
   "source": [
    "M_SLOTS = 15\n",
    "M_DAYS  = 3\n",
    "\n",
    "def power2(ts1: int, ts2: int) -> int:\n",
    "  day1, slot1 = TIMESLOTS[ts1]\n",
    "  day2, slot2 = TIMESLOTS[ts2]\n",
    "  delta_slot = abs(slot1 - slot2)\n",
    "  delta_day = abs(day1 - day2)\n",
    "  if delta_slot > M_SLOTS or delta_day > M_DAYS:\n",
    "    return 0\n",
    "  tmp = (M_SLOTS - delta_slot) * (M_DAYS - delta_day)\n",
    "  return 2 ** tmp\n",
    "\n",
    "def local_search(schedule: dict[str, int]) -> float:\n",
    "  cost = 0\n",
    "  for course1, course2 in itertools.combinations(conflict, 2):\n",
    "    cost += conflict[course1][course2] * power2(schedule[course1], schedule[course2])\n",
    "  loops = 0\n",
    "  while loops < LOCAL_MOVES:\n",
    "    course = random.choice(tuple(conflict))\n",
    "    cur_timeslot = schedule[course]\n",
    "    forbidden_slots: set[int] = set(schedule[nb] for nb in conflict[course] if nb in schedule)\n",
    "    forbidden_slots.add(cur_timeslot)\n",
    "    feasible_slots: list[int] = [ts for ts in range(len(TIMESLOTS)) if ts not in forbidden_slots]\n",
    "    if not feasible_slots:\n",
    "      continue\n",
    "    loops += 1\n",
    "    new_schedule = random.choice(feasible_slots)\n",
    "    delta = 0\n",
    "    for nb in conflict[course]:\n",
    "      coef = power2(new_schedule, schedule[nb]) - power2(schedule[course], schedule[nb])\n",
    "      delta += conflict[course][nb] * coef\n",
    "    if delta < 0:\n",
    "      cost += delta\n",
    "      schedule[course] = new_schedule\n",
    "  cost /= len(courses_by_student)\n",
    "  return cost"
   ]
  },
  {
   "cell_type": "markdown",
   "metadata": {},
   "source": [
    "### Cập nhật pheromone toàn cục\n",
    "- Evaporate: $\\tau \\leftarrow (1-\\rho)\\tau$ cho mọi cung `(course, timeslot)`.\n",
    "- Deposit: cộng $\\frac{\\rho \\times Q}{1 + log_{10}(1 + \\text{best\\_cost})}$ lên các cặp `(course, timeslot)` thuộc `best_schedule`.\n",
    "\n",
    "Giới hạn $\\tau$ trong khoảng $[\\tau_{\\min}, \\tau_{\\max}]$ để tránh một vài đường đi bị quá ưu tiên hoặc bị hội tụ sớm."
   ]
  },
  {
   "cell_type": "code",
   "execution_count": 163,
   "metadata": {},
   "outputs": [],
   "source": [
    "TAU_MIN = 0.01\n",
    "TAU_MAX = 10.0\n",
    "\n",
    "def evaporate_and_deposit(\n",
    "    tau: dict[tuple[str, int], float],\n",
    "    best_schedule: dict[str, int],\n",
    "    best_cost: float\n",
    "  ) -> None:\n",
    "  # Bốc hơi pheromone\n",
    "  for key in tau:\n",
    "    tau[key] *= (1 - RHO)\n",
    "  # Đổ pheromone lên best schedule\n",
    "  deposit = (RHO * Q) / (1 + log10(best_cost))\n",
    "  for key in best_schedule.items():\n",
    "    tau[key] = min(max(tau[key] + deposit, TAU_MIN), TAU_MAX)"
   ]
  },
  {
   "cell_type": "markdown",
   "metadata": {},
   "source": [
    "### Main algorithm\n",
    "Ant colony optimizaztion + Local search"
   ]
  },
  {
   "cell_type": "code",
   "execution_count": 164,
   "metadata": {},
   "outputs": [
    {
     "name": "stdout",
     "output_type": "stream",
     "text": [
      "[Iter   1] best_cost=16331197775.62 (iter_best=16331197775.62)\n",
      "[Iter   2] best_cost=16077616195.02 (iter_best=16077616195.02)\n",
      "[Iter   3] best_cost=15765398962.09 (iter_best=15765398962.09)\n",
      "[Iter   4] best_cost=14389836926.87 (iter_best=14389836926.87)\n",
      "[Iter   5] best_cost=14389836926.87 (iter_best=16780013227.43)\n",
      "[Iter   6] best_cost=14389836926.87 (iter_best=15287360871.39)\n",
      "[Iter   7] best_cost=11726562759.70 (iter_best=11726562759.70)\n",
      "[Iter   8] best_cost=11726562759.70 (iter_best=16897242832.61)\n",
      "[Iter   9] best_cost=11726562759.70 (iter_best=13921547576.51)\n",
      "[Iter  10] best_cost=11726562759.70 (iter_best=14419108720.76)\n",
      "[Iter  11] best_cost=11726562759.70 (iter_best=15921459356.40)\n",
      "[Iter  12] best_cost=11726562759.70 (iter_best=15404438555.20)\n",
      "No improvement for 5 iterations — stop.\n"
     ]
    }
   ],
   "source": [
    "best_schedule: dict[str, int] = {}\n",
    "best_cost = 10**63\n",
    "no_improvement = 0\n",
    "\n",
    "tau: dict[tuple[str, int], float] = {\n",
    "  (course, ts): TAU0 for course in conflict for ts in range(len(TIMESLOTS))\n",
    "}\n",
    "\n",
    "for it in range(1, MAX_ITERS + 1):\n",
    "  ants: list[dict[str, int]] = []\n",
    "  costs: list[float] = []\n",
    "  while len(ants) < NUM_ANTS:\n",
    "    schedule = construct_ant(tau)\n",
    "    if schedule is None:\n",
    "      continue\n",
    "    cost = local_search(schedule)\n",
    "    ants.append(schedule)\n",
    "    costs.append(cost)\n",
    "  i_best = min(range(NUM_ANTS), key=lambda i: costs[i])\n",
    "  if costs[i_best] < best_cost:\n",
    "    best_schedule = ants[i_best]\n",
    "    best_cost = costs[i_best]\n",
    "    no_improvement = 0\n",
    "  else:\n",
    "    no_improvement += 1\n",
    "  evaporate_and_deposit(tau, best_schedule, best_cost)\n",
    "  print(f\"[Iter {it:3d}] best_cost={best_cost:.2f} (iter_best={costs[i_best]:.2f})\")\n",
    "  if no_improvement >= EARLY_STOP:\n",
    "    print(f\"No improvement for {EARLY_STOP} iterations — stop.\")\n",
    "    break"
   ]
  },
  {
   "cell_type": "markdown",
   "metadata": {},
   "source": [
    "### Đánh giá độ tốt của lịch thi cuối cùng"
   ]
  },
  {
   "cell_type": "code",
   "execution_count": 165,
   "metadata": {},
   "outputs": [
    {
     "name": "stdout",
     "output_type": "stream",
     "text": [
      "best_cost: 11726562759.704855\n"
     ]
    },
    {
     "data": {
      "text/plain": [
       "{'same_day_same_slot': 0,\n",
       " 'same_day_adj': 47,\n",
       " 'same_day_nonadj': 47,\n",
       " 'overnight_adj': 0,\n",
       " '1_day': 8669,\n",
       " '2_days': 5892,\n",
       " '3_days': 6572,\n",
       " 'other': 79058}"
      ]
     },
     "execution_count": 165,
     "metadata": {},
     "output_type": "execute_result"
    }
   ],
   "source": [
    "counter: dict[str, int] = {k: 0 for k in [\n",
    "  \"same_day_same_slot\",  # Cùng ngày cùng ca -> phải bằng 0\n",
    "  \"same_day_adj\",        # Thi cùng ngày, 2 ca liền kề\n",
    "  \"same_day_nonadj\",     # Thi cùng ngày nhưng không phải 2 ca liền kề\n",
    "  \"overnight_adj\",       # Thi ca cuối hôm trước và ca đầu ngày hôm sau\n",
    "  \"1_day\",               # Hai ca thi ở hai ngày liên tiếp\n",
    "  \"2_days\",              # Hai ca thi cách nhau 1 ngày\n",
    "  \"3_days\",              # Hai ca thi cách nhau 2 ngày\n",
    "  \"other\"                # Các trường hợp còn lại coi như là đẹp\n",
    "]}\n",
    "for course1, course2 in itertools.combinations(conflict, 2):\n",
    "  mutual = conflict[course1][course2]\n",
    "  if mutual == 0:\n",
    "    continue\n",
    "  day1, slot1 = TIMESLOTS[schedule[course1]]\n",
    "  day2, slot2 = TIMESLOTS[schedule[course2]]\n",
    "  delta_day = abs(day1 - day2)\n",
    "  delta_slot = abs(slot1 - slot2)\n",
    "  if delta_day == 0:\n",
    "    if delta_slot == 0:\n",
    "      counter[\"same_day_same_slot\"] += mutual\n",
    "    elif delta_slot == 1:\n",
    "      counter[\"same_day_adj\"] += mutual\n",
    "    else:\n",
    "      counter[\"same_day_nonadj\"] += mutual\n",
    "  elif delta_day == 1:\n",
    "    if delta_slot == 1:\n",
    "      counter[\"overnight_adj\"] += mutual\n",
    "    else:\n",
    "      counter[\"1_day\"] += mutual\n",
    "  elif delta_day == 2:\n",
    "    counter[\"2_days\"] += mutual\n",
    "  elif delta_day == 3:\n",
    "    counter[\"3_days\"] += mutual\n",
    "  else:\n",
    "    counter[\"other\"] += mutual\n",
    "\n",
    "print(\"best_cost:\", best_cost)\n",
    "counter"
   ]
  },
  {
   "cell_type": "markdown",
   "metadata": {},
   "source": [
    "### Gán phòng thi và cán bộ coi thi\n",
    "Sau khi đã có lịch thi tối ưu nhất, ta sẽ gán phòng thi và cán bộ coi thi.  \n",
    "Đối với mỗi ca thi $i$, gọi $n$ là số lượng sinh viên thi ca này. Giả sử mỗi phòng có tối đa $40$ sinh viên và mỗi phòng thi cần đúng $2$ cán bộ coi thi, ta cần $r = \\lceil \\frac{n}{40} \\rceil$ phòng thi và $t = 2r$ cán bộ coi thi.  \n",
    "Về vấn đề phòng thi, ta có thể xếp môn thi vào bất cứ phòng nào miễn là phòng đó không được sử dụng bởi môn thi khác cùng ca thi.  \n",
    "Về vấn đề cán bộ coi thi, ta mong muốn các cán bộ coi thi được phân việc đồng đều nhất (không có cán bộ nào phải đi coi quá nhiều ca thi trong khi có cán bộ coi ít ca thi hơn)."
   ]
  },
  {
   "cell_type": "code",
   "execution_count": 166,
   "metadata": {},
   "outputs": [],
   "source": [
    "N_SUPERVISORS = 140\n",
    "N_ROOMS       = 70\n",
    "ROOM_MAX_CAPACITY = 40\n",
    "\n",
    "def get_section_of_course(student_id: str, course_code: str) -> str:\n",
    "  for section_code in sections_by_student[student_id]:\n",
    "    if section_code.replace(' ', '').startswith(course_code):\n",
    "      return section_code\n",
    "  assert False   # không thể xảy ra trường hợp này\n",
    "\n",
    "schedule_rows: list[tuple[str, str, int, int, int, int, int]] = []\n",
    "count_timeslots_of_supervior = [0] * N_SUPERVISORS\n",
    "schedule_by_timeslot: dict[int, list[str]] = defaultdict(list)\n",
    "for course, ts in best_schedule.items():\n",
    "  schedule_by_timeslot[ts].append(course)\n",
    "for ts, courses in schedule_by_timeslot.items():\n",
    "  supervisors = sorted(range(N_SUPERVISORS), key=lambda sp: count_timeslots_of_supervior[sp])\n",
    "  day, timeslot = TIMESLOTS[ts]\n",
    "  room_id = 0\n",
    "  for course in courses:\n",
    "    # Sort theo mã lớp môn học vì ta muốn có nhiều sinh viên học cùng lớp thì thi cùng phòng nhất chứ không phải xếp ngẫu nhiên\n",
    "    students = sorted(students_by_course[course], key=lambda sid: get_section_of_course(sid, course))\n",
    "    n_rooms = ceil(len(students) / ROOM_MAX_CAPACITY)\n",
    "    idx = 0\n",
    "    for i in range(n_rooms):\n",
    "      # Tránh trường hợp có phòng maximum sinh viên trong khi có phòng có đúng 1 sinh viên, ta mong muốn mỗi phòng có số sinh viên bằng nhau\n",
    "      # Ví dụ có 10 sv và 3 phòng thi thì có 1 phòng 4 sv và 2 phòng 3 sv\n",
    "      capacity = len(students) // n_rooms + (i < len(students) % n_rooms)\n",
    "      sp1 = supervisors[room_id * 2]\n",
    "      sp2 = supervisors[room_id * 2 + 1]\n",
    "      count_timeslots_of_supervior[sp1] += 1\n",
    "      count_timeslots_of_supervior[sp2] += 1\n",
    "      for j in range(capacity):\n",
    "        schedule_rows.append((students[idx], course, day, timeslot % SLOTS_PER_DAY, room_id, sp1, sp2))\n",
    "        idx += 1\n",
    "      room_id += 1"
   ]
  },
  {
   "cell_type": "markdown",
   "metadata": {},
   "source": [
    "### Lưu lịch thi vào database"
   ]
  },
  {
   "cell_type": "code",
   "execution_count": 167,
   "metadata": {},
   "outputs": [
    {
     "data": {
      "text/plain": [
       "38752"
      ]
     },
     "execution_count": 167,
     "metadata": {},
     "output_type": "execute_result"
    }
   ],
   "source": [
    "with sqlite3.connect(\"database.db\") as conn:\n",
    "  cursor = conn.cursor()\n",
    "  cursor.executescript(\"\"\"\n",
    "    DROP TABLE IF EXISTS schedule;\n",
    "    CREATE TABLE schedule (\n",
    "      student_id    TEXT,\n",
    "      course_code   TEXT,\n",
    "      day           INT,\n",
    "      slot          INT,\n",
    "      room          INT,\n",
    "      supervisor1   INT,\n",
    "      supervisor2   INT\n",
    "    )\n",
    "  \"\"\")\n",
    "  cursor.executemany(\"INSERT INTO schedule VALUES (?,?,?,?,?,?,?)\", schedule_rows)\n",
    "\n",
    "len(schedule_rows)"
   ]
  }
 ],
 "metadata": {
  "kernelspec": {
   "display_name": "Python 3",
   "language": "python",
   "name": "python3"
  },
  "language_info": {
   "codemirror_mode": {
    "name": "ipython",
    "version": 3
   },
   "file_extension": ".py",
   "mimetype": "text/x-python",
   "name": "python",
   "nbconvert_exporter": "python",
   "pygments_lexer": "ipython3",
   "version": "3.11.9"
  }
 },
 "nbformat": 4,
 "nbformat_minor": 2
}
