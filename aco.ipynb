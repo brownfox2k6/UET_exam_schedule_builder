{
 "cells": [
  {
   "cell_type": "markdown",
   "metadata": {},
   "source": [
    "### Import các module cần thiết"
   ]
  },
  {
   "cell_type": "code",
   "execution_count": 36,
   "metadata": {},
   "outputs": [],
   "source": [
    "import sqlite3, itertools, random\n",
    "from collections import defaultdict"
   ]
  },
  {
   "cell_type": "markdown",
   "metadata": {},
   "source": [
    "### Cấu hình tổng quát & Các tham số"
   ]
  },
  {
   "cell_type": "code",
   "execution_count": 37,
   "metadata": {},
   "outputs": [],
   "source": [
    "DB_PATH = \"database.db\"\n",
    "\n",
    "EXAMINATION_DAYS = 18\n",
    "SLOTS_PER_DAY    = 4\n",
    "TIMESLOTS        = [*range(EXAMINATION_DAYS * SLOTS_PER_DAY)]\n",
    "\n",
    "# Siêu tham số cho ACO\n",
    "ALPHA = 1.0     # Ảnh hưởng của pheromone trong xác suất chọn (τ^α)\n",
    "BETA  = 3.0     # Ảnh hưởng của heuristic trong xác suất chọn (η^β)\n",
    "RHO   = 0.20    # Tốc độ bay hơi pheromone ở cập nhật toàn cục (global)\n",
    "XI    = 0.10    # Tốc độ cập nhật pheromone cục bộ (local) sau mỗi quyết định\n",
    "Q     = 1.0     # Hệ số lắng pheromone khi cộng vào lời giải tốt nhất\n",
    "TAU0  = 0.1     # Giá trị pheromone khởi tạo (đồng đều)\n",
    "\n",
    "NUM_ANTS    = 20     # Số lượng \"kiến\" mỗi vòng lặp\n",
    "MAX_ITERS   = 100    # Số vòng lặp tối đa\n",
    "EARLY_STOP  = 20     # Dừng sớm nếu không cải thiện trong chừng đó vòng\n",
    "LOCAL_MOVES = 10     # Số bước thử local search cho mỗi lời giải\n",
    "\n",
    "PENALTY: dict[str, int] = {\n",
    "  \"same_day_adj\"   : 10000,  # Thi cùng ngày, 2 ca liền kề\n",
    "  \"same_day_nonadj\": 700,     # Thi cùng ngày nhưng không phải 2 ca liền kề\n",
    "  \"overnight_adj\"  : 40,     # Thi ca cuối hôm trước và ca đầu ngày hôm sau\n",
    "  \"1_day\"          : 30,     # Hai ca thi ở hai ngày liên tiếp\n",
    "  \"2_days\"         : 10,     # Hai ca thi cách nhau 1 ngày\n",
    "  \"3_days\"         : 5,      # Hai ca thi cách nhau 2 ngày\n",
    "  \"other\"          : 0       # Các trường hợp còn lại coi như là đẹp\n",
    "}"
   ]
  },
  {
   "cell_type": "markdown",
   "metadata": {},
   "source": [
    "### Load data"
   ]
  },
  {
   "cell_type": "code",
   "execution_count": 38,
   "metadata": {},
   "outputs": [],
   "source": [
    "database = sqlite3.connect(DB_PATH)\n",
    "cursor = database.cursor()\n",
    "\n",
    "courses_by_student: defaultdict[str, set[str]] = defaultdict(set)\n",
    "sections_by_student: defaultdict[str, set[str]] = defaultdict(set)\n",
    "students_by_course: defaultdict[str, set[str]] = defaultdict(set)\n",
    "for student_id, section_code, course_code in cursor.execute(\"\"\"\n",
    "    SELECT e.student_id, e.section_code, s.course_code\n",
    "    FROM enrolments e JOIN sections s ON e.section_code = s.section_code\n",
    "\"\"\"):\n",
    "  courses_by_student[student_id].add(course_code)\n",
    "  sections_by_student[student_id].add(section_code)\n",
    "  students_by_course[course_code].add(student_id)"
   ]
  },
  {
   "cell_type": "markdown",
   "metadata": {},
   "source": [
    "### Xây dựng đồ thị xung đột và khởi tạo ma trận $\\tau$\n",
    "- Mỗi `course_code` là một đỉnh.\n",
    "- Có cạnh giữa hai `course_code` nếu tồn tại ít nhất một sinh viên thi cả hai môn đó.\n",
    "- Trọng số của cạnh là số sinh viên cùng thi hai môn đó."
   ]
  },
  {
   "cell_type": "code",
   "execution_count": 39,
   "metadata": {},
   "outputs": [],
   "source": [
    "conflict: dict[str, dict[str, int]] = defaultdict(lambda: defaultdict(int))\n",
    "for course_code_list in courses_by_student.values():\n",
    "  for course1, course2 in itertools.combinations(course_code_list, 2):\n",
    "    conflict[course1][course2] += 1\n",
    "    conflict[course2][course1] += 1\n",
    "# Đảm bảo các course không có xung đột vẫn xuất hiện trong đồ thị,\n",
    "# chỉ là không có cạnh nào nối tới nó.\n",
    "for course in students_by_course.keys():\n",
    "  conflict.setdefault(course, defaultdict(int))\n",
    "\n",
    "tau: dict[tuple[str, int], float] = {\n",
    "  (course, ts): TAU0 for course in conflict for ts in TIMESLOTS\n",
    "}"
   ]
  },
  {
   "cell_type": "markdown",
   "metadata": {},
   "source": [
    "### Heuristic: Tạo thứ tự xếp lịch thi\n",
    "Môn nào \"khó\" (nhiều xung đột, quy mô lớn) được gán trước để giảm bế tắc."
   ]
  },
  {
   "cell_type": "code",
   "execution_count": 40,
   "metadata": {},
   "outputs": [],
   "source": [
    "courses_order = sorted(\n",
    "  conflict.keys(),\n",
    "  key=lambda c: (len(conflict[c]), len(students_by_course[c])),\n",
    "  reverse=True\n",
    ")"
   ]
  },
  {
   "cell_type": "markdown",
   "metadata": {},
   "source": [
    "### \"Vòng quay xổ số\"\n",
    "Chọn một phần tử trong `items` theo phân phối tỉ lệ `weights`.\n",
    "Nếu `sum(weights) <= 0`, fallback chọn ngẫu nhiên đều."
   ]
  },
  {
   "cell_type": "code",
   "execution_count": 41,
   "metadata": {},
   "outputs": [],
   "source": [
    "def roulette(items: list[int], weights: list[float]):\n",
    "  total = sum(weights)\n",
    "  if total <= 0:\n",
    "    return random.choice(items)\n",
    "  r = random.random() * total\n",
    "  accumulate = 0\n",
    "  for it, w in zip(items, weights):\n",
    "    accumulate += w\n",
    "    if accumulate >= r:\n",
    "      return it\n",
    "  return items[-1]"
   ]
  },
  {
   "cell_type": "markdown",
   "metadata": {},
   "source": [
    "### Hàm chi phí\n",
    "Đánh giá độ \"tốt\" của một kỳ thi. Ta muốn lịch thi với mỗi sinh viên là giãn nhất có thể (nói cách khác, các môn thi không quá gần nhau)."
   ]
  },
  {
   "cell_type": "code",
   "execution_count": 42,
   "metadata": {},
   "outputs": [],
   "source": [
    "def label(timeslot1: int, timeslot2: int) -> str:\n",
    "  day1, slot1 = divmod(timeslot1, SLOTS_PER_DAY)\n",
    "  day2, slot2 = divmod(timeslot2, SLOTS_PER_DAY)\n",
    "  dist_day = day2 - day1\n",
    "  if dist_day == 0:\n",
    "    dist_slot = slot2 - slot1\n",
    "    # Cách cài đặt thuật toán đã đảm bảo trường hợp\n",
    "    # trùng ngày và trùng ca thi không thể xảy ra\n",
    "    assert dist_slot != 0\n",
    "    return \"same_day_adj\" if dist_slot == 1 else \"same_day_nonadj\"\n",
    "  elif dist_day == 1:\n",
    "    if slot1 == SLOTS_PER_DAY - 1 and slot2 == 0:\n",
    "      return \"overnight_adj\"\n",
    "    return \"1_day\"\n",
    "  elif dist_day == 2:\n",
    "    return \"2_days\"\n",
    "  elif dist_day == 3:\n",
    "    return \"3_days\"\n",
    "  return \"other\"\n",
    "\n",
    "def cost(schedule: dict[str, int]) -> tuple[int, dict[str, int]]:\n",
    "  total_cost = 0\n",
    "  counter = {lbl: 0 for lbl in PENALTY}    \n",
    "  for courses in courses_by_student.values():\n",
    "    timeslots = sorted(schedule[c] for c in courses)\n",
    "    for i in range(len(timeslots) - 1):\n",
    "      lbl = label(timeslots[i], timeslots[i + 1])\n",
    "      total_cost += PENALTY[lbl]\n",
    "      counter[lbl] += 1\n",
    "  return total_cost, counter"
   ]
  },
  {
   "cell_type": "markdown",
   "metadata": {},
   "source": [
    "### Xây đường đi (lịch thi) cho một con \"kiến\"\n",
    "- Duyệt theo thứ tự `courses_order`.\n",
    "- Với mỗi course: xác định tập lịch khả thi (không trùng lịch với course xung đột).\n",
    "- Tính trọng số chọn lịch: $\\tau^\\alpha \\cdot \\eta^\\beta$, với $\\eta = \\frac{1}{1+\\Delta_\\text{soft}}$\n",
    "- Chọn lịch thi theo bánh xe xổ số, cập nhật pheromone cục bộ rồi tiếp tục."
   ]
  },
  {
   "cell_type": "code",
   "execution_count": 43,
   "metadata": {},
   "outputs": [],
   "source": [
    "def construct_ant() -> dict[str, int] | None:\n",
    "  schedule: dict[str, int] = dict()\n",
    "  students_by_day: dict[int, dict[str, int]] = defaultdict(lambda: defaultdict(int))\n",
    "  for course in courses_order:\n",
    "    forbidden_slots: set[int] = set(schedule[c] for c in conflict[course] if c in schedule)\n",
    "    feasible_slots: list[int] = [ts for ts in TIMESLOTS if ts not in forbidden_slots]\n",
    "    # Nếu không có slot khả thi, con kiến này \"die\"\n",
    "    if not feasible_slots:\n",
    "      return None\n",
    "    weights: list[float] = []\n",
    "    for timeslot in feasible_slots:\n",
    "      # Heuristic cục bộ: Ước lượng nhanh \"phạt tăng thêm\" nếu đặt `course`\n",
    "      # vào ngày thứ `day` dựa trên lịch tạm thời `partial_schedule`\n",
    "      # (chỉ xét theo ngày: với mỗi sinh viên, đếm số ca thi khác trong ngày của họ).\n",
    "      day = timeslot // SLOTS_PER_DAY\n",
    "      delta_soft = sum(students_by_day[day][sid] for sid in students_by_course[course])\n",
    "      eta = 1 / (1 + delta_soft)\n",
    "      w = (tau[(course, timeslot)] ** ALPHA) * (eta ** BETA)\n",
    "      weights.append(w)\n",
    "    timeslot_chosen = roulette(feasible_slots, weights)\n",
    "    schedule[course] = timeslot_chosen\n",
    "    day_chosen = timeslot_chosen // SLOTS_PER_DAY\n",
    "    students_by_day[day_chosen][student_id] += 1\n",
    "    # Local pheromone update: τ ← (1-ξ)τ + ξτ0\n",
    "    tau[(course, timeslot_chosen)] = (1 - XI) * tau[(course, timeslot_chosen)] + XI * TAU0\n",
    "  return schedule "
   ]
  },
  {
   "cell_type": "markdown",
   "metadata": {},
   "source": [
    "### Local search: Tối ưu cục bộ đơn giản\n",
    "- Lặp `LOCAL_MOVES` lần, chọn ngẫu nhiên một course, thử chuyển sang một timeslot hợp lệ khác.\n",
    "- Chấp nhận nước đi nếu giảm chi phí; nếu không thì hoàn tác."
   ]
  },
  {
   "cell_type": "code",
   "execution_count": 44,
   "metadata": {},
   "outputs": [],
   "source": [
    "def local_search(schedule: dict[str, int]) -> tuple[int, dict[str, int]]:\n",
    "  c, lbl = cost(schedule)\n",
    "  for _ in range(LOCAL_MOVES):\n",
    "    course = random.choice(courses_order)\n",
    "    cur_timeslot = schedule[course]\n",
    "    forbidden_slots: set[int] = set(schedule[c] for c in conflict[course] if c in schedule)\n",
    "    forbidden_slots.add(cur_timeslot)\n",
    "    feasible_slots: list[int] = [ts for ts in TIMESLOTS if ts not in forbidden_slots]\n",
    "    if not feasible_slots:\n",
    "      continue\n",
    "    new_timeslot = random.choice(feasible_slots)\n",
    "    schedule[course] = new_timeslot\n",
    "    new_cost, new_label = cost(schedule)\n",
    "    if new_cost < c:\n",
    "      c = new_cost\n",
    "      lbl = new_label\n",
    "    else:\n",
    "      schedule[course] = cur_timeslot\n",
    "  return c, lbl"
   ]
  },
  {
   "cell_type": "markdown",
   "metadata": {},
   "source": [
    "### Cập nhật pheromone toàn cục\n",
    "- Evaporate: $\\tau \\leftarrow (1-\\rho)\\tau$ cho mọi cung `(course, timeslot)`.\n",
    "- Deposit: cộng $\\frac{\\rho \\times Q}{1 + \\text{best\\_cost}}$ lên các cặp `(course, timeslot)` thuộc `best_schedule`."
   ]
  },
  {
   "cell_type": "code",
   "execution_count": 45,
   "metadata": {},
   "outputs": [],
   "source": [
    "def evaporate_and_deposit(best_schedule: dict[str, int], best_cost: int) -> None:\n",
    "  for course_timeslot in tau.keys():\n",
    "    tau[course_timeslot] *= (1 - RHO)\n",
    "  deposit = (RHO * Q) / (1 + best_cost)\n",
    "  for course, timeslot in best_schedule.items():\n",
    "    tau[(course, timeslot)] += deposit"
   ]
  },
  {
   "cell_type": "markdown",
   "metadata": {},
   "source": [
    "### Ant colony optimization"
   ]
  },
  {
   "cell_type": "code",
   "execution_count": null,
   "metadata": {},
   "outputs": [],
   "source": [
    "best_schedule: dict[str, int] = {}\n",
    "best_labels: dict[str, int] = {}\n",
    "best_cost = 99999999999\n",
    "no_improvement = 0\n",
    "\n",
    "for it in range(1, MAX_ITERS + 1):\n",
    "  ants: list[dict[str, int]] = []\n",
    "  labels: list[dict[str, int]] = []\n",
    "  costs: list[int] = []\n",
    "  while len(ants) < NUM_ANTS:\n",
    "    schedule = construct_ant()\n",
    "    if schedule is not None:\n",
    "      c, lbl = local_search(schedule)\n",
    "      ants.append(schedule)\n",
    "      labels.append(lbl)\n",
    "      costs.append(c)\n",
    "  i_best = min(range(NUM_ANTS), key=lambda i: costs[i])\n",
    "  if costs[i_best] < best_cost:\n",
    "    best_schedule = ants[i_best]\n",
    "    best_cost = costs[i_best]\n",
    "    best_labels = labels[i_best]\n",
    "    no_improvement = 0\n",
    "  else:\n",
    "    no_improvement += 1\n",
    "  evaporate_and_deposit(best_schedule, best_cost)\n",
    "  print(f\"[Iter {it:3d}] best_cost={best_cost:.2f} (iter_best={costs[i_best]:.2f})\")\n",
    "  print(labels[i_best])\n",
    "  if no_improvement >= EARLY_STOP:\n",
    "    print(f\"No improvement for {EARLY_STOP} iterations — stop.\")\n",
    "    break\n",
    "\n",
    "print(best_labels)"
   ]
  },
  {
   "cell_type": "markdown",
   "metadata": {},
   "source": [
    "### Lưu lịch thi vào database"
   ]
  },
  {
   "cell_type": "code",
   "execution_count": null,
   "metadata": {},
   "outputs": [],
   "source": [
    "cursor.executescript(\"\"\"\n",
    "  DROP TABLE IF EXISTS schedule;\n",
    "  CREATE TABLE schedule (\n",
    "    course_code TEXT  PRIMARY KEY,\n",
    "    day         INT,\n",
    "    slot        INT\n",
    "  )\n",
    "\"\"\")\n",
    "cursor.executemany(\"INSERT INTO schedule VALUES (?, ?, ?)\", [(\n",
    "  c,\n",
    "  *divmod(best_schedule[c], SLOTS_PER_DAY)\n",
    ") for c in best_schedule])"
   ]
  }
 ],
 "metadata": {
  "kernelspec": {
   "display_name": "Python 3",
   "language": "python",
   "name": "python3"
  },
  "language_info": {
   "codemirror_mode": {
    "name": "ipython",
    "version": 3
   },
   "file_extension": ".py",
   "mimetype": "text/x-python",
   "name": "python",
   "nbconvert_exporter": "python",
   "pygments_lexer": "ipython3",
   "version": "3.14.0"
  }
 },
 "nbformat": 4,
 "nbformat_minor": 2
}
