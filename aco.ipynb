{
 "cells": [
  {
   "cell_type": "markdown",
   "metadata": {},
   "source": [
    "### Import các module cần thiết"
   ]
  },
  {
   "cell_type": "code",
   "execution_count": 39,
   "metadata": {},
   "outputs": [],
   "source": [
    "import sqlite3, itertools, random\n",
    "from collections import defaultdict"
   ]
  },
  {
   "cell_type": "markdown",
   "metadata": {},
   "source": [
    "### Cấu hình tổng quát & Các tham số"
   ]
  },
  {
   "cell_type": "code",
   "execution_count": 40,
   "metadata": {},
   "outputs": [],
   "source": [
    "EXAMINATION_DAYS = 24\n",
    "SLOTS_PER_DAY    = 4\n",
    "TIMESLOTS        = [*range(EXAMINATION_DAYS * SLOTS_PER_DAY)]\n",
    "\n",
    "# Siêu tham số cho ACO\n",
    "ALPHA = 1.0     # Ảnh hưởng của pheromone trong xác suất chọn (τ^α)\n",
    "BETA  = 3.0     # Ảnh hưởng của heuristic trong xác suất chọn (η^β)\n",
    "RHO   = 0.20    # Tốc độ bay hơi pheromone ở cập nhật toàn cục (global)\n",
    "XI    = 0.10    # Tốc độ cập nhật pheromone cục bộ (local) sau mỗi quyết định\n",
    "Q     = 1.0     # Hệ số lắng pheromone khi cộng vào lời giải tốt nhất\n",
    "TAU0  = 0.1     # Giá trị pheromone khởi tạo (đồng đều)\n",
    "\n",
    "NUM_ANTS    = 50   # Số lượng \"kiến\" mỗi vòng lặp\n",
    "MAX_ITERS   = 30    # Số vòng lặp tối đa\n",
    "EARLY_STOP  = 20   # Dừng sớm nếu không cải thiện trong chừng đó vòng\n",
    "LOCAL_MOVES = 100   # Số bước thử local search cho mỗi lời giải\n",
    "\n",
    "PENALTY: dict[str, int] = {\n",
    "  \"same_day_adj\"   : 100000,  # Thi cùng ngày, 2 ca liền kề\n",
    "  \"same_day_nonadj\": 7000,     # Thi cùng ngày nhưng không phải 2 ca liền kề\n",
    "  \"overnight_adj\"  : 40,     # Thi ca cuối hôm trước và ca đầu ngày hôm sau\n",
    "  \"1_day\"          : 30,     # Hai ca thi ở hai ngày liên tiếp\n",
    "  \"2_days\"         : 10,     # Hai ca thi cách nhau 1 ngày\n",
    "  \"3_days\"         : 5,      # Hai ca thi cách nhau 2 ngày\n",
    "  \"other\"          : 0       # Các trường hợp còn lại coi như là đẹp\n",
    "}"
   ]
  },
  {
   "cell_type": "markdown",
   "metadata": {},
   "source": [
    "### Load data"
   ]
  },
  {
   "cell_type": "code",
   "execution_count": 41,
   "metadata": {},
   "outputs": [],
   "source": [
    "with sqlite3.connect(\"database.db\") as conn:\n",
    "  cursor = conn.cursor()\n",
    "  courses_by_student: defaultdict[str, set[str]] = defaultdict(set)\n",
    "  sections_by_student: defaultdict[str, set[str]] = defaultdict(set)\n",
    "  students_by_course: defaultdict[str, set[str]] = defaultdict(set)\n",
    "  for student_id, section_code, course_code in cursor.execute(\"\"\"\n",
    "      SELECT e.student_id, e.section_code, s.course_code\n",
    "      FROM enrolments e JOIN sections s ON e.section_code = s.section_code\n",
    "  \"\"\"):\n",
    "    courses_by_student[student_id].add(course_code)\n",
    "    sections_by_student[student_id].add(section_code)\n",
    "    students_by_course[course_code].add(student_id)"
   ]
  },
  {
   "cell_type": "markdown",
   "metadata": {},
   "source": [
    "### Xây dựng đồ thị xung đột và khởi tạo ma trận $\\tau$\n",
    "- Mỗi `course_code` là một đỉnh.\n",
    "- Có cạnh giữa hai `course_code` nếu tồn tại ít nhất một sinh viên thi cả hai môn đó.\n",
    "- Trọng số của cạnh là số sinh viên cùng thi hai môn đó."
   ]
  },
  {
   "cell_type": "code",
   "execution_count": 42,
   "metadata": {},
   "outputs": [],
   "source": [
    "conflict: dict[str, dict[str, int]] = defaultdict(lambda: defaultdict(int))\n",
    "for course_code_list in courses_by_student.values():\n",
    "  for course1, course2 in itertools.combinations(course_code_list, 2):\n",
    "    conflict[course1][course2] += 1\n",
    "    conflict[course2][course1] += 1\n",
    "# Đảm bảo các course không có xung đột vẫn xuất hiện trong đồ thị,\n",
    "# chỉ là không có cạnh nào nối tới nó.\n",
    "for course in students_by_course.keys():\n",
    "  conflict.setdefault(course, defaultdict(int))\n",
    "\n",
    "tau: dict[tuple[str, int], float] = {\n",
    "  (course, ts): TAU0 for course in conflict for ts in TIMESLOTS\n",
    "}"
   ]
  },
  {
   "cell_type": "markdown",
   "metadata": {},
   "source": [
    "### Heuristic: Tạo thứ tự xếp lịch thi\n",
    "Môn nào \"khó\" (nhiều xung đột, quy mô lớn) được gán trước để giảm bế tắc."
   ]
  },
  {
   "cell_type": "code",
   "execution_count": 43,
   "metadata": {},
   "outputs": [],
   "source": [
    "courses_order = sorted(\n",
    "  conflict.keys(),\n",
    "  key=lambda c: (len(conflict[c]), len(students_by_course[c])),\n",
    "  reverse=True\n",
    ")"
   ]
  },
  {
   "cell_type": "markdown",
   "metadata": {},
   "source": [
    "### \"Vòng quay xổ số\"\n",
    "Chọn một phần tử trong `items` theo phân phối tỉ lệ `weights`."
   ]
  },
  {
   "cell_type": "code",
   "execution_count": 44,
   "metadata": {},
   "outputs": [],
   "source": [
    "def roulette(items: list[int], weights: list[float]):\n",
    "  total = sum(weights)\n",
    "  if total <= 0:\n",
    "    return random.choice(items)\n",
    "  r = random.random() * total\n",
    "  accumulate = 0\n",
    "  for it, w in zip(items, weights):\n",
    "    accumulate += w\n",
    "    if accumulate >= r:\n",
    "      return it\n",
    "  return items[-1]"
   ]
  },
  {
   "cell_type": "markdown",
   "metadata": {},
   "source": [
    "### Hàm chi phí\n",
    "Đánh giá độ \"tốt\" của một kỳ thi. Ta muốn lịch thi với mỗi sinh viên là giãn nhất có thể (nói cách khác, các môn thi không quá gần nhau)."
   ]
  },
  {
   "cell_type": "code",
   "execution_count": 45,
   "metadata": {},
   "outputs": [],
   "source": [
    "def label(timeslot1: int, timeslot2: int) -> str:\n",
    "  day1, slot1 = divmod(timeslot1, SLOTS_PER_DAY)\n",
    "  day2, slot2 = divmod(timeslot2, SLOTS_PER_DAY)\n",
    "  dist_day = day2 - day1\n",
    "  if dist_day == 0:\n",
    "    dist_slot = slot2 - slot1\n",
    "    # Cách cài đặt thuật toán đã đảm bảo trường hợp\n",
    "    # trùng ngày và trùng ca thi không thể xảy ra\n",
    "    assert dist_slot != 0\n",
    "    return \"same_day_adj\" if dist_slot == 1 else \"same_day_nonadj\"\n",
    "  elif dist_day == 1:\n",
    "    if slot1 == SLOTS_PER_DAY - 1 and slot2 == 0:\n",
    "      return \"overnight_adj\"\n",
    "    return \"1_day\"\n",
    "  elif dist_day == 2:\n",
    "    return \"2_days\"\n",
    "  elif dist_day == 3:\n",
    "    return \"3_days\"\n",
    "  return \"other\"\n",
    "\n",
    "def cost(schedule: dict[str, int]) -> tuple[int, dict[str, int]]:\n",
    "  total_cost = 0\n",
    "  counter = {lbl: 0 for lbl in PENALTY}    \n",
    "  for courses in courses_by_student.values():\n",
    "    timeslots = sorted(schedule[c] for c in courses)\n",
    "    for i in range(len(timeslots) - 1):\n",
    "      lbl = label(timeslots[i], timeslots[i + 1])\n",
    "      total_cost += PENALTY[lbl]\n",
    "      counter[lbl] += 1\n",
    "  return total_cost, counter"
   ]
  },
  {
   "cell_type": "markdown",
   "metadata": {},
   "source": [
    "### Xây đường đi (lịch thi) cho một con \"kiến\"\n",
    "- Duyệt theo thứ tự `courses_order`.\n",
    "- Với mỗi course: xác định tập lịch khả thi (không trùng lịch với course xung đột).\n",
    "- Tính trọng số chọn lịch: $\\tau^\\alpha \\cdot \\eta^\\beta$, với $\\eta = \\frac{1}{1+\\Delta_\\text{soft}}$\n",
    "- Chọn lịch thi theo bánh xe xổ số, cập nhật pheromone cục bộ rồi tiếp tục."
   ]
  },
  {
   "cell_type": "code",
   "execution_count": 46,
   "metadata": {},
   "outputs": [],
   "source": [
    "def construct_ant() -> dict[str, int] | None:\n",
    "  schedule: dict[str, int] = dict()\n",
    "  students_by_day: dict[int, dict[str, int]] = defaultdict(lambda: defaultdict(int))\n",
    "  for course in courses_order:\n",
    "    forbidden_slots: set[int] = set(schedule[c] for c in conflict[course] if c in schedule)\n",
    "    feasible_slots: list[int] = [ts for ts in TIMESLOTS if ts not in forbidden_slots]\n",
    "    # Nếu không có slot khả thi, con kiến này \"die\"\n",
    "    if not feasible_slots:\n",
    "      return None\n",
    "    weights: list[float] = []\n",
    "    for timeslot in feasible_slots:\n",
    "      # Heuristic cục bộ: Ước lượng nhanh \"phạt tăng thêm\" nếu đặt `course`\n",
    "      # vào ngày thứ `day` dựa trên lịch tạm thời `partial_schedule`\n",
    "      # (chỉ xét theo ngày: với mỗi sinh viên, đếm số ca thi khác trong ngày của họ).\n",
    "      day = timeslot // SLOTS_PER_DAY\n",
    "      delta_soft = sum(students_by_day[day][sid] for sid in students_by_course[course])\n",
    "      eta = 1 / (1 + delta_soft)\n",
    "      w = (tau[(course, timeslot)] ** ALPHA) * (eta ** BETA)\n",
    "      weights.append(w)\n",
    "    timeslot_chosen = roulette(feasible_slots, weights)\n",
    "    schedule[course] = timeslot_chosen\n",
    "    day_chosen = timeslot_chosen // SLOTS_PER_DAY\n",
    "    for student_id in students_by_course[course]:\n",
    "      students_by_day[day_chosen][student_id] += 1\n",
    "    # Local pheromone update: τ ← (1-ξ)τ + ξτ0\n",
    "    tau[(course, timeslot_chosen)] = (1 - XI) * tau[(course, timeslot_chosen)] + XI * TAU0\n",
    "  return schedule "
   ]
  },
  {
   "cell_type": "markdown",
   "metadata": {},
   "source": [
    "### Local search: Tối ưu cục bộ đơn giản\n",
    "- Lặp `LOCAL_MOVES` lần, chọn ngẫu nhiên một course, thử chuyển sang một timeslot hợp lệ khác.\n",
    "- Chấp nhận nước đi nếu giảm chi phí; nếu không thì hoàn tác."
   ]
  },
  {
   "cell_type": "code",
   "execution_count": 47,
   "metadata": {},
   "outputs": [],
   "source": [
    "def local_search(schedule: dict[str, int]) -> tuple[int, dict[str, int]]:\n",
    "  c, lbl = cost(schedule)\n",
    "  for _ in range(LOCAL_MOVES):\n",
    "    course = random.choice(courses_order)\n",
    "    cur_timeslot = schedule[course]\n",
    "    forbidden_slots: set[int] = set(schedule[c] for c in conflict[course] if c in schedule)\n",
    "    forbidden_slots.add(cur_timeslot)\n",
    "    feasible_slots: list[int] = [ts for ts in TIMESLOTS if ts not in forbidden_slots]\n",
    "    if not feasible_slots:\n",
    "      continue\n",
    "    new_timeslot = random.choice(feasible_slots)\n",
    "    schedule[course] = new_timeslot\n",
    "    new_cost, new_label = cost(schedule)\n",
    "    if new_cost < c:\n",
    "      c = new_cost\n",
    "      lbl = new_label\n",
    "    else:\n",
    "      schedule[course] = cur_timeslot\n",
    "  return c, lbl"
   ]
  },
  {
   "cell_type": "markdown",
   "metadata": {},
   "source": [
    "### Cập nhật pheromone toàn cục\n",
    "- Evaporate: $\\tau \\leftarrow (1-\\rho)\\tau$ cho mọi cung `(course, timeslot)`.\n",
    "- Deposit: cộng $\\frac{\\rho \\times Q}{1 + \\text{best\\_cost}}$ lên các cặp `(course, timeslot)` thuộc `best_schedule`."
   ]
  },
  {
   "cell_type": "code",
   "execution_count": 48,
   "metadata": {},
   "outputs": [],
   "source": [
    "def evaporate_and_deposit(best_schedule: dict[str, int], best_cost: int) -> None:\n",
    "  for course_timeslot in tau.keys():\n",
    "    tau[course_timeslot] *= (1 - RHO)\n",
    "  deposit = (RHO * Q) / (1 + best_cost)\n",
    "  for course, timeslot in best_schedule.items():\n",
    "    tau[(course, timeslot)] += deposit"
   ]
  },
  {
   "cell_type": "markdown",
   "metadata": {},
   "source": [
    "### Main algorithm\n",
    "Any colony optimizaztion + Local search"
   ]
  },
  {
   "cell_type": "code",
   "execution_count": 49,
   "metadata": {},
   "outputs": [
    {
     "name": "stdout",
     "output_type": "stream",
     "text": [
      "[Iter   1] best_cost=3315685.00 (iter_best=3315685.00)\n",
      "{'same_day_adj': 24, 'same_day_nonadj': 87, 'overnight_adj': 325, '1_day': 6617, '2_days': 6487, '3_days': 6061, 'other': 12107}\n",
      "[Iter   2] best_cost=3057860.00 (iter_best=3057860.00)\n",
      "{'same_day_adj': 22, 'same_day_nonadj': 73, 'overnight_adj': 289, '1_day': 8570, '2_days': 5712, '3_days': 4216, 'other': 12826}\n",
      "[Iter   3] best_cost=3057860.00 (iter_best=3206720.00)\n",
      "{'same_day_adj': 22, 'same_day_nonadj': 98, 'overnight_adj': 411, '1_day': 6478, '2_days': 8372, '3_days': 5244, 'other': 11083}\n",
      "[Iter   4] best_cost=2957360.00 (iter_best=2957360.00)\n",
      "{'same_day_adj': 19, 'same_day_nonadj': 109, 'overnight_adj': 711, '1_day': 5473, '2_days': 8367, '3_days': 3612, 'other': 13417}\n",
      "[Iter   5] best_cost=2957360.00 (iter_best=3076065.00)\n",
      "{'same_day_adj': 22, 'same_day_nonadj': 77, 'overnight_adj': 1190, '1_day': 7137, '2_days': 5579, '3_days': 3913, 'other': 13790}\n",
      "[Iter   6] best_cost=2957360.00 (iter_best=2968810.00)\n",
      "{'same_day_adj': 21, 'same_day_nonadj': 70, 'overnight_adj': 727, '1_day': 8578, '2_days': 7166, '3_days': 4146, 'other': 11000}\n",
      "[Iter   7] best_cost=2927245.00 (iter_best=2927245.00)\n",
      "{'same_day_adj': 21, 'same_day_nonadj': 71, 'overnight_adj': 587, '1_day': 7089, '2_days': 6919, '3_days': 4981, 'other': 12040}\n",
      "[Iter   8] best_cost=2927245.00 (iter_best=3024775.00)\n",
      "{'same_day_adj': 22, 'same_day_nonadj': 68, 'overnight_adj': 407, '1_day': 8539, '2_days': 5586, '3_days': 4093, 'other': 12993}\n",
      "[Iter   9] best_cost=2927245.00 (iter_best=3188760.00)\n",
      "{'same_day_adj': 23, 'same_day_nonadj': 76, 'overnight_adj': 753, '1_day': 7661, '2_days': 6617, '3_days': 6128, 'other': 10450}\n",
      "[Iter  10] best_cost=2927245.00 (iter_best=3013720.00)\n",
      "{'same_day_adj': 22, 'same_day_nonadj': 66, 'overnight_adj': 1631, '1_day': 6761, '2_days': 6008, '3_days': 4714, 'other': 12506}\n",
      "[Iter  11] best_cost=2575705.00 (iter_best=2575705.00)\n",
      "{'same_day_adj': 18, 'same_day_nonadj': 72, 'overnight_adj': 349, '1_day': 5094, '2_days': 6988, '3_days': 7009, 'other': 12178}\n",
      "[Iter  12] best_cost=2208830.00 (iter_best=2208830.00)\n",
      "{'same_day_adj': 13, 'same_day_nonadj': 82, 'overnight_adj': 262, '1_day': 8004, '2_days': 6091, '3_days': 4664, 'other': 12592}\n",
      "[Iter  13] best_cost=2208830.00 (iter_best=3036505.00)\n",
      "{'same_day_adj': 22, 'same_day_nonadj': 72, 'overnight_adj': 106, '1_day': 8169, '2_days': 5655, '3_days': 5329, 'other': 12355}\n",
      "[Iter  14] best_cost=2208830.00 (iter_best=2895215.00)\n",
      "{'same_day_adj': 21, 'same_day_nonadj': 67, 'overnight_adj': 112, '1_day': 7147, '2_days': 7960, '3_days': 5545, 'other': 10856}\n",
      "[Iter  15] best_cost=2208830.00 (iter_best=2770420.00)\n",
      "{'same_day_adj': 19, 'same_day_nonadj': 76, 'overnight_adj': 331, '1_day': 8490, '2_days': 4256, '3_days': 5584, 'other': 12952}\n",
      "[Iter  16] best_cost=2208830.00 (iter_best=3249570.00)\n",
      "{'same_day_adj': 22, 'same_day_nonadj': 99, 'overnight_adj': 446, '1_day': 8533, '2_days': 5739, '3_days': 5070, 'other': 11799}\n",
      "[Iter  17] best_cost=2208830.00 (iter_best=3229830.00)\n",
      "{'same_day_adj': 23, 'same_day_nonadj': 76, 'overnight_adj': 498, '1_day': 9806, '2_days': 6322, '3_days': 4102, 'other': 10881}\n",
      "[Iter  18] best_cost=2208830.00 (iter_best=3240965.00)\n",
      "{'same_day_adj': 26, 'same_day_nonadj': 46, 'overnight_adj': 208, '1_day': 7413, '2_days': 5834, '3_days': 5983, 'other': 12198}\n",
      "[Iter  19] best_cost=2208830.00 (iter_best=3153000.00)\n",
      "{'same_day_adj': 22, 'same_day_nonadj': 84, 'overnight_adj': 266, '1_day': 9249, '2_days': 5099, '3_days': 5180, 'other': 11808}\n",
      "[Iter  20] best_cost=2208830.00 (iter_best=3206625.00)\n",
      "{'same_day_adj': 24, 'same_day_nonadj': 70, 'overnight_adj': 659, '1_day': 6758, '2_days': 6017, '3_days': 5471, 'other': 12709}\n",
      "[Iter  21] best_cost=2208830.00 (iter_best=2927915.00)\n",
      "{'same_day_adj': 21, 'same_day_nonadj': 72, 'overnight_adj': 489, '1_day': 6963, '2_days': 6672, '3_days': 5749, 'other': 11742}\n",
      "[Iter  22] best_cost=2208830.00 (iter_best=3090540.00)\n",
      "{'same_day_adj': 23, 'same_day_nonadj': 67, 'overnight_adj': 391, '1_day': 7258, '2_days': 6556, '3_days': 4520, 'other': 12893}\n",
      "[Iter  23] best_cost=2208830.00 (iter_best=2790450.00)\n",
      "{'same_day_adj': 19, 'same_day_nonadj': 75, 'overnight_adj': 522, '1_day': 8658, '2_days': 5885, '3_days': 5196, 'other': 11353}\n",
      "[Iter  24] best_cost=2208830.00 (iter_best=3021285.00)\n",
      "{'same_day_adj': 22, 'same_day_nonadj': 71, 'overnight_adj': 701, '1_day': 7321, '2_days': 5758, '3_days': 3807, 'other': 14028}\n",
      "[Iter  25] best_cost=2208830.00 (iter_best=2707070.00)\n",
      "{'same_day_adj': 20, 'same_day_nonadj': 51, 'overnight_adj': 859, '1_day': 8337, '2_days': 4065, '3_days': 4990, 'other': 13386}\n",
      "[Iter  26] best_cost=2208830.00 (iter_best=2673310.00)\n",
      "{'same_day_adj': 20, 'same_day_nonadj': 55, 'overnight_adj': 339, '1_day': 5953, '2_days': 6688, '3_days': 5856, 'other': 12797}\n",
      "[Iter  27] best_cost=2208830.00 (iter_best=2855525.00)\n",
      "{'same_day_adj': 22, 'same_day_nonadj': 50, 'overnight_adj': 262, '1_day': 6250, '2_days': 7514, '3_days': 6481, 'other': 11129}\n",
      "[Iter  28] best_cost=2208830.00 (iter_best=2648275.00)\n",
      "{'same_day_adj': 18, 'same_day_nonadj': 75, 'overnight_adj': 812, '1_day': 6595, '2_days': 7316, '3_days': 3957, 'other': 12935}\n",
      "[Iter  29] best_cost=2208830.00 (iter_best=3150705.00)\n",
      "{'same_day_adj': 23, 'same_day_nonadj': 76, 'overnight_adj': 346, '1_day': 7545, '2_days': 5442, '3_days': 4819, 'other': 13457}\n",
      "[Iter  30] best_cost=2208830.00 (iter_best=2607975.00)\n",
      "{'same_day_adj': 17, 'same_day_nonadj': 75, 'overnight_adj': 1110, '1_day': 8318, '2_days': 6676, '3_days': 4455, 'other': 11057}\n",
      "{'same_day_adj': 13, 'same_day_nonadj': 82, 'overnight_adj': 262, '1_day': 8004, '2_days': 6091, '3_days': 4664, 'other': 12592}\n"
     ]
    }
   ],
   "source": [
    "best_schedule: dict[str, int] = {}\n",
    "best_labels: dict[str, int] = {}\n",
    "best_cost = 99999999999\n",
    "no_improvement = 0\n",
    "\n",
    "for it in range(1, MAX_ITERS + 1):\n",
    "  ants: list[dict[str, int]] = []\n",
    "  labels: list[dict[str, int]] = []\n",
    "  costs: list[int] = []\n",
    "  while len(ants) < NUM_ANTS:\n",
    "    schedule = construct_ant()\n",
    "    if schedule is None:\n",
    "      continue\n",
    "    c, lbl = local_search(schedule)\n",
    "    ants.append(schedule)\n",
    "    labels.append(lbl)\n",
    "    costs.append(c)\n",
    "  i_best = min(range(NUM_ANTS), key=lambda i: costs[i])\n",
    "  if costs[i_best] < best_cost:\n",
    "    best_schedule = ants[i_best]\n",
    "    best_cost = costs[i_best]\n",
    "    best_labels = labels[i_best]\n",
    "    no_improvement = 0\n",
    "  else:\n",
    "    no_improvement += 1\n",
    "  evaporate_and_deposit(best_schedule, best_cost)\n",
    "  print(f\"[Iter {it:3d}] best_cost={best_cost:.2f} (iter_best={costs[i_best]:.2f})\")\n",
    "  print(labels[i_best])\n",
    "  if no_improvement >= EARLY_STOP:\n",
    "    print(f\"No improvement for {EARLY_STOP} iterations — stop.\")\n",
    "    break\n",
    "\n",
    "print(best_labels)"
   ]
  },
  {
   "cell_type": "markdown",
   "metadata": {},
   "source": [
    "### Lưu lịch thi vào database"
   ]
  },
  {
   "cell_type": "code",
   "execution_count": 50,
   "metadata": {},
   "outputs": [],
   "source": [
    "with sqlite3.connect(\"database.db\") as conn:\n",
    "  cursor = conn.cursor()\n",
    "  cursor.executescript(\"\"\"\n",
    "    DROP TABLE IF EXISTS schedule;\n",
    "    CREATE TABLE schedule (\n",
    "      course_code  TEXT  PRIMARY KEY,\n",
    "      day          INT,\n",
    "      slot         INT\n",
    "    )\n",
    "  \"\"\")\n",
    "  cursor.executemany(\"INSERT INTO schedule VALUES (?, ?, ?)\", [(\n",
    "    course,\n",
    "    *divmod(timeslot, SLOTS_PER_DAY)\n",
    "  ) for course, timeslot in best_schedule.items()])"
   ]
  }
 ],
 "metadata": {
  "kernelspec": {
   "display_name": "Python 3",
   "language": "python",
   "name": "python3"
  },
  "language_info": {
   "codemirror_mode": {
    "name": "ipython",
    "version": 3
   },
   "file_extension": ".py",
   "mimetype": "text/x-python",
   "name": "python",
   "nbconvert_exporter": "python",
   "pygments_lexer": "ipython3",
   "version": "3.11.9"
  }
 },
 "nbformat": 4,
 "nbformat_minor": 2
}
